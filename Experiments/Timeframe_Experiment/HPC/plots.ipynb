{
 "cells": [
  {
   "cell_type": "code",
   "execution_count": null,
   "metadata": {},
   "outputs": [],
   "source": [
    "%load_ext autoreload \n",
    "%autoreload 2"
   ]
  },
  {
   "cell_type": "markdown",
   "metadata": {},
   "source": [
    "write abundance predictions as json files"
   ]
  },
  {
   "cell_type": "code",
   "execution_count": null,
   "metadata": {},
   "outputs": [],
   "source": [
    "from utils.helper_functions import * \n",
    "\n",
    "benchmark_dirs = [\"Connecticut\"]\n",
    "ref_sets = [[\"Connecticut\", \"USA\", \"North_America\"]]\n",
    "start_dates = [\"2020-01-01_till_2022-01-01\", \"2020-06-01_till_2022-01-01\", \"2021-01-01_till_2022-01-01\", \"2021-06-01_till_2022-01-01\"]\n",
    "abundances = [1,2,3,4,5,6,7,8,9,10,20,30,40,50,60,70,80,90,100]\n",
    "\n",
    "for ref_sts in  ref_sets:\n",
    "    output_results_to_json_2_dirs( \"0.1\", ref_sts, start_dates, abundances, \"AY.103_sequence\")\n",
    "    output_results_to_json_2_dirs( \"0.1\", ref_sts, start_dates, abundances, \"AY.103_sequence\", \"VOC\", \"delta\")"
   ]
  },
  {
   "cell_type": "markdown",
   "metadata": {},
   "source": [
    "read abundance prediction"
   ]
  },
  {
   "cell_type": "code",
   "execution_count": null,
   "metadata": {},
   "outputs": [],
   "source": [
    "results = dict()\n",
    "results_who = dict()\n",
    "\n",
    "for dir_name in benchmark_dirs:\n",
    "    results[dir_name] = dict()\n",
    "    # load results\n",
    "    with open(\"results.json\") as json_file:\n",
    "        results[dir_name] = json.loads(json_file.read())\n",
    "    with open(\"results_who.json\") as json_file:\n",
    "        results_who[dir_name] = json.loads(json_file.read())"
   ]
  },
  {
   "cell_type": "markdown",
   "metadata": {},
   "source": [
    "calculate absolute errors"
   ]
  },
  {
   "cell_type": "code",
   "execution_count": null,
   "metadata": {},
   "outputs": [],
   "source": [
    "ref_sets_dict = dict()\n",
    "\n",
    "for dir, ref_set_list in zip(benchmark_dirs, ref_sets):\n",
    "    ref_sets_dict[dir] = ref_set_list\n",
    "\n",
    "absolute_errors = calculate_absolute_errors_af(results, start_dates, abundances, ref_sets_dict, benchmark_dirs)\n",
    "absolute_errors_who = calculate_absolute_errors_af(results_who, start_dates, abundances, ref_sets_dict, benchmark_dirs)"
   ]
  },
  {
   "cell_type": "markdown",
   "metadata": {},
   "source": [
    "generate scatter plot"
   ]
  },
  {
   "cell_type": "code",
   "execution_count": null,
   "metadata": {},
   "outputs": [],
   "source": [
    "from utils.plotting_functions import *\n",
    "if os.path.isdir(\"figures\") != True:\n",
    "    os.mkdir(\"figures\")\n",
    "\n",
    "ref_sets_per_dir = dict()\n",
    "for dir, ref_set_l in zip(benchmark_dirs, ref_sets):\n",
    "    ref_sets_per_dir[dir] = ref_set_l\n",
    "plot_with_scatterplots_generic(abundances, start_dates, results, ref_sets_per_dir, \"Connecticut\")\n",
    "plot_with_scatterplots_generic(abundances, start_dates, results_who, ref_sets_per_dir, \"Connecticut\", \"scatter_plot_who\")\n",
    "\n"
   ]
  },
  {
   "cell_type": "markdown",
   "metadata": {},
   "source": [
    "output dataset info"
   ]
  },
  {
   "cell_type": "code",
   "execution_count": null,
   "metadata": {},
   "outputs": [],
   "source": [
    "from utils.helper_functions import * \n",
    "\n",
    "dirs = [\"Connecticut\", \"USA\", \"North_America\"]\n",
    "start_dates = [\"2020-01-01_till_2022-01-01\", \"2020-06-01_till_2022-01-01\", \"2021-01-01_till_2022-01-01\", \"2021-06-01_till_2022-01-01\"]\n",
    "\n",
    "for ref_set in dirs:\n",
    "    for dates in start_dates:\n",
    "        path = \"../../../data/Timeframe_Experiments/HPC/reference_sets/{}/{}\".format(ref_set, dates)\n",
    "        selection_path = \"../../../data/Timeframe_Experiments/HPC/reference_sets/{}/{}/processed\".format(ref_set, dates)\n",
    "        output_dataset_info(\"AY.103\", path, selection_path)\n",
    "\n",
    "# merge csv per directory\n",
    "for dir in dirs:\n",
    "    merge_csv_from_subdirectory(\"../../../data/Timeframe_Experiments/HPC/reference_sets/{}\".format(dir, dates), \"Reference set\", True)"
   ]
  }
 ],
 "metadata": {
  "kernelspec": {
   "display_name": "Python 3.9.6 64-bit",
   "language": "python",
   "name": "python3"
  },
  "language_info": {
   "codemirror_mode": {
    "name": "ipython",
    "version": 3
   },
   "file_extension": ".py",
   "mimetype": "text/x-python",
   "name": "python",
   "nbconvert_exporter": "python",
   "pygments_lexer": "ipython3",
   "version": "3.9.7"
  },
  "orig_nbformat": 4,
  "vscode": {
   "interpreter": {
    "hash": "aee8b7b246df8f9039afb4144a1f6fd8d2ca17a180786b69acc140d282b71a49"
   }
  }
 },
 "nbformat": 4,
 "nbformat_minor": 2
}
