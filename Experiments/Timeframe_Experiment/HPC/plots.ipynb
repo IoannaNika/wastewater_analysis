{
 "cells": [
  {
   "cell_type": "code",
   "execution_count": null,
   "metadata": {},
   "outputs": [],
   "source": [
    "%load_ext autoreload \n",
    "%autoreload 2"
   ]
  },
  {
   "cell_type": "markdown",
   "metadata": {},
   "source": [
    "write abundance predictions as json files"
   ]
  },
  {
   "cell_type": "code",
   "execution_count": null,
   "metadata": {},
   "outputs": [],
   "source": [
    "from utils.helper_functions import * \n",
    "import matplotlib.pyplot as plt\n",
    "\n",
    "benchmark_dirs = [\"Connecticut\"]\n",
    "ref_sets = [[\"Connecticut\", \"USA\", \"North_America\", \"Global\"]]\n",
    "start_dates = [\"2020-01-01_till_2022-01-01\", \"2020-06-01_till_2022-01-01\", \"2021-01-01_till_2022-01-01\", \"2021-06-01_till_2022-01-01\"]\n",
    "abundances = [1,2,3,4,5,6,7,8,9,10,20,30,40,50,60,70,80,90,100]\n",
    "\n",
    "for ref_sts in  ref_sets:\n",
    "    output_results_to_json_2_dirs( \"0.1\", ref_sts, start_dates, abundances, \"AY.103_sequence\")\n",
    "    output_results_to_json_2_dirs( \"0.1\", ref_sts, start_dates, abundances, \"AY.103_sequence\", \"VOC\", \"delta\")"
   ]
  },
  {
   "cell_type": "markdown",
   "metadata": {},
   "source": [
    "read abundance prediction"
   ]
  },
  {
   "cell_type": "code",
   "execution_count": null,
   "metadata": {},
   "outputs": [],
   "source": [
    "results = dict()\n",
    "results_who = dict()\n",
    "\n",
    "for dir_name in benchmark_dirs:\n",
    "    results[dir_name] = dict()\n",
    "    # load results\n",
    "    with open(\"results.json\") as json_file:\n",
    "        results[dir_name] = json.loads(json_file.read())\n",
    "    with open(\"results_who.json\") as json_file:\n",
    "        results_who[dir_name] = json.loads(json_file.read())"
   ]
  },
  {
   "cell_type": "markdown",
   "metadata": {},
   "source": [
    "calculate absolute errors"
   ]
  },
  {
   "cell_type": "code",
   "execution_count": null,
   "metadata": {},
   "outputs": [],
   "source": [
    "ref_sets_dict = dict()\n",
    "\n",
    "for dir, ref_set_list in zip(benchmark_dirs, ref_sets):\n",
    "    ref_sets_dict[dir] = ref_set_list\n",
    "\n",
    "absolute_errors = calculate_absolute_errors_af(results, start_dates, abundances, ref_sets_dict, benchmark_dirs)\n",
    "absolute_errors_who = calculate_absolute_errors_af(results_who, start_dates, abundances, ref_sets_dict, benchmark_dirs)"
   ]
  },
  {
   "cell_type": "markdown",
   "metadata": {},
   "source": [
    "generate scatter plot"
   ]
  },
  {
   "cell_type": "code",
   "execution_count": null,
   "metadata": {},
   "outputs": [],
   "source": [
    "def plot_with_scatterplots_custom(abundances, dates, results, dirs_and_refs, bench_dir, special_plot_name = None):\n",
    "\n",
    "    fig, ax = plt.subplots(2, 2, figsize=(20, 20))\n",
    "    # fig.set_dpi(2000)\n",
    "\n",
    "    for ref_set, tuple in zip(dirs_and_refs[bench_dir],[[0,0], [0,1], [1,0], [1,1]]):\n",
    "        i = tuple[0]\n",
    "        j = tuple[1]\n",
    "        ax[i][j].grid()\n",
    "        for date in dates:\n",
    "            # create a new figure\n",
    "            ax[i][j].scatter(abundances, [results[bench_dir][ref_set][date][str(abundance)] for abundance in abundances], label= date.replace(\"_\", \" \"), s = 120, alpha= 0.7)\n",
    "            ax[i][j].set_xlabel(\"Simulated abundance\", fontsize = 17)\n",
    "            ax[i][j].set_ylabel(\"Predicted abundance\", fontsize = 17)\n",
    "            ax[i][j].set_xscale('log')\n",
    "            ax[i][j].set_title(\"{}\".format(ref_set.replace(\"_\", \" \")), fontweight='bold', fontsize = 19)\n",
    "            \n",
    "        # plot x=y line black and dashed\n",
    "        ax[i][j].plot(abundances, abundances, color='black', linestyle='dashed', label = \"True abundance\")\n",
    "        ax[i][j].legend(fontsize = 13)\n",
    "        ax[i][j].set_yticks([0, 10, 20, 30, 40, 50, 60, 70, 80 , 90, 100])\n",
    "    \n",
    "        ax[i][j].tick_params(axis='both', labelsize=15)\n",
    "\n",
    "            # save figure as pdf with tight layout\n",
    "    plt.subplots_adjust(hspace=0.19)\n",
    "    if special_plot_name == None:\n",
    "        plt.savefig(\"figures/scatter_plot.pdf\", bbox_inches='tight')\n",
    "    else:\n",
    "        plt.savefig(\"figures/{}.pdf\".format(special_plot_name), bbox_inches='tight')\n",
    "\n",
    "\n",
    "    return \n",
    "\n",
    "\n",
    "plot_with_scatterplots_custom(abundances, start_dates, results_who, ref_sets_per_dir, \"Connecticut\", \"scatter_plot_custom\")"
   ]
  },
  {
   "cell_type": "code",
   "execution_count": null,
   "metadata": {},
   "outputs": [],
   "source": [
    "from utils.plotting_functions import *\n",
    "if os.path.isdir(\"figures\") != True:\n",
    "    os.mkdir(\"figures\")\n",
    "\n",
    "ref_sets_per_dir = dict()\n",
    "for dir, ref_set_l in zip(benchmark_dirs, ref_sets):\n",
    "    ref_sets_per_dir[dir] = ref_set_l\n",
    "plot_with_scatterplots_generic(abundances, start_dates, results, ref_sets_per_dir, \"Connecticut\")\n",
    "plot_with_scatterplots_generic(abundances, start_dates, results_who, ref_sets_per_dir, \"Connecticut\", \"scatter_plot_who\")\n",
    "\n"
   ]
  },
  {
   "cell_type": "markdown",
   "metadata": {},
   "source": [
    "output dataset info"
   ]
  },
  {
   "cell_type": "code",
   "execution_count": null,
   "metadata": {},
   "outputs": [],
   "source": [
    "from utils.helper_functions import * \n",
    "\n",
    "dirs = [\"Connecticut\", \"USA\", \"North_America\", \"Global\"]\n",
    "start_dates = [\"2020-01-01_till_2022-01-01\", \"2020-06-01_till_2022-01-01\", \"2021-01-01_till_2022-01-01\", \"2021-06-01_till_2022-01-01\"]\n",
    "\n",
    "for ref_set in dirs:\n",
    "    for dates in start_dates:\n",
    "        path = \"../../../data/Timeframe_Experiments/HPC/reference_sets/{}/{}\".format(ref_set, dates)\n",
    "        selection_path = \"../../../data/Timeframe_Experiments/HPC/reference_sets/{}/{}/processed\".format(ref_set, dates)\n",
    "        output_dataset_info(\"AY.103\", path, selection_path)\n",
    "\n",
    "# merge csv per directory\n",
    "for dir in dirs:\n",
    "    merge_csv_from_subdirectory(\"../../../data/Timeframe_Experiments/HPC/reference_sets/{}\".format(dir, dates), \"Reference set\", True)"
   ]
  }
 ],
 "metadata": {
  "kernelspec": {
   "display_name": "Python 3.9.7 64-bit",
   "language": "python",
   "name": "python3"
  },
  "language_info": {
   "codemirror_mode": {
    "name": "ipython",
    "version": 3
   },
   "file_extension": ".py",
   "mimetype": "text/x-python",
   "name": "python",
   "nbconvert_exporter": "python",
   "pygments_lexer": "ipython3",
   "version": "3.9.7"
  },
  "orig_nbformat": 4,
  "vscode": {
   "interpreter": {
    "hash": "949777d72b0d2535278d3dc13498b2535136f6dfe0678499012e853ee9abcab1"
   }
  }
 },
 "nbformat": 4,
 "nbformat_minor": 2
}
